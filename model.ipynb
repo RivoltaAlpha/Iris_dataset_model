{
 "cells": [
  {
   "cell_type": "code",
   "execution_count": 1,
   "metadata": {},
   "outputs": [],
   "source": [
    "# Import necessary libraries\n",
    "from sklearn.datasets import load_iris\n",
    "from sklearn.model_selection import train_test_split\n",
    "from sklearn.linear_model import LogisticRegression\n",
    "from sklearn.metrics import accuracy_score\n",
    "\n",
    "# Load Iris dataset\n",
    "iris = load_iris()\n",
    "X = iris.data  # Features\n",
    "y = iris.target  # Labels (species)\n",
    "\n",
    "# Split the dataset into training and testing sets\n",
    "X_train, X_test, y_train, y_test = train_test_split(X, y, test_size=0.2, random_state=42)\n"
   ]
  },
  {
   "cell_type": "code",
   "execution_count": 2,
   "metadata": {},
   "outputs": [
    {
     "name": "stdout",
     "output_type": "stream",
     "text": [
      "Model Accuracy: 100.00%\n"
     ]
    }
   ],
   "source": [
    "# Initialize the model\n",
    "model = LogisticRegression(max_iter=200)\n",
    "\n",
    "# Train the model on the training data\n",
    "model.fit(X_train, y_train)\n",
    "\n",
    "# Make predictions on the test set\n",
    "y_pred = model.predict(X_test)\n",
    "\n",
    "# Evaluate the model\n",
    "accuracy = accuracy_score(y_test, y_pred)\n",
    "print(f\"Model Accuracy: {accuracy * 100:.2f}%\")\n"
   ]
  },
  {
   "cell_type": "code",
   "execution_count": 8,
   "metadata": {},
   "outputs": [
    {
     "name": "stdout",
     "output_type": "stream",
     "text": [
      "Model saved to disk as 'logistic_regression_model.joblib'.\n"
     ]
    }
   ],
   "source": [
    "import joblib\n",
    "\n",
    "# Save the trained model to a file\n",
    "joblib.dump(model, 'logistic_regression_model.joblib')\n",
    "\n",
    "print(\"Model saved to disk as 'logistic_regression_model.joblib'.\")\n"
   ]
  },
  {
   "cell_type": "code",
   "execution_count": 9,
   "metadata": {},
   "outputs": [
    {
     "name": "stdout",
     "output_type": "stream",
     "text": [
      "Model loaded from disk.\n"
     ]
    }
   ],
   "source": [
    "# Load the model from the file\n",
    "loaded_model = joblib.load('logistic_regression_model.joblib')\n",
    "\n",
    "print(\"Model loaded from disk.\")\n"
   ]
  },
  {
   "cell_type": "code",
   "execution_count": 10,
   "metadata": {},
   "outputs": [
    {
     "name": "stdout",
     "output_type": "stream",
     "text": [
      "Predictions for new data: ['setosa' 'versicolor']\n"
     ]
    }
   ],
   "source": [
    "# Example of new data (features: sepal length, sepal width, petal length, petal width)\n",
    "new_data = [[5.1, 3.5, 1.4, 0.2],  # Likely Iris-Setosa\n",
    "            [6.7, 3.1, 4.7, 1.5]]  # Likely Iris-Versicolor\n",
    "\n",
    "# Predict the class of new data using the loaded model\n",
    "predictions = loaded_model.predict(new_data)\n",
    "\n",
    "# Map predictions back to the species names\n",
    "species = iris.target_names[predictions]\n",
    "\n",
    "print(\"Predictions for new data:\", species)\n"
   ]
  },
  {
   "cell_type": "code",
   "execution_count": 12,
   "metadata": {},
   "outputs": [
    {
     "name": "stdout",
     "output_type": "stream",
     "text": [
      "Prediction for new data 1: ['setosa']\n"
     ]
    }
   ],
   "source": [
    "# Example 1: new data (features: sepal length, sepal width, petal length, petal width)\n",
    "new_data_1 = [[4.9, 3.0, 1.4, 0.2]]  # Likely Iris-Setosa\n",
    "\n",
    "# Predict the class of new data\n",
    "prediction_1 = loaded_model.predict(new_data_1)\n",
    "\n",
    "# Map predictions back to the species names\n",
    "species_1 = iris.target_names[prediction_1]\n",
    "\n",
    "print(\"Prediction for new data 1:\", species_1)\n"
   ]
  },
  {
   "cell_type": "code",
   "execution_count": 13,
   "metadata": {},
   "outputs": [
    {
     "name": "stdout",
     "output_type": "stream",
     "text": [
      "Prediction for new data 2: ['versicolor']\n"
     ]
    }
   ],
   "source": [
    "# Example 2: new data (features: sepal length, sepal width, petal length, petal width)\n",
    "new_data_2 = [[5.5, 2.3, 4.0, 1.3]]  # Likely Iris-Versicolor\n",
    "\n",
    "# Predict the class of new data\n",
    "prediction_2 = loaded_model.predict(new_data_2)\n",
    "\n",
    "# Map predictions back to the species names\n",
    "species_2 = iris.target_names[prediction_2]\n",
    "\n",
    "print(\"Prediction for new data 2:\", species_2)\n"
   ]
  },
  {
   "cell_type": "code",
   "execution_count": 15,
   "metadata": {},
   "outputs": [
    {
     "name": "stdout",
     "output_type": "stream",
     "text": [
      "Predictions for new data 4: ['setosa' 'virginica' 'setosa']\n"
     ]
    }
   ],
   "source": [
    "# Example 4: new data with multiple instances\n",
    "new_data_4 = [[4.6,3.4,1.4,0.3],  # Likely Iris-Versicolor\n",
    "              [6.8, 3.2, 5.9, 2.3],  # Likely Iris-Virginica\n",
    "              [4.6, 3.1, 1.5, 0.2]]  # Likely Iris-Setosa\n",
    "\n",
    "# Predict the class of new data\n",
    "predictions_4 = loaded_model.predict(new_data_4)\n",
    "\n",
    "# Map predictions back to the species names\n",
    "species_4 = iris.target_names[predictions_4]\n",
    "\n",
    "print(\"Predictions for new data 4:\", species_4)\n"
   ]
  }
 ],
 "metadata": {
  "kernelspec": {
   "display_name": "base",
   "language": "python",
   "name": "python3"
  },
  "language_info": {
   "codemirror_mode": {
    "name": "ipython",
    "version": 3
   },
   "file_extension": ".py",
   "mimetype": "text/x-python",
   "name": "python",
   "nbconvert_exporter": "python",
   "pygments_lexer": "ipython3",
   "version": "3.12.1"
  }
 },
 "nbformat": 4,
 "nbformat_minor": 2
}
